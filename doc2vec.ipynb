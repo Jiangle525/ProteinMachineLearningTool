{
 "cells": [
  {
   "cell_type": "code",
   "execution_count": 2,
   "metadata": {
    "collapsed": true
   },
   "outputs": [],
   "source": [
    "from gensim.models.doc2vec import Doc2Vec"
   ]
  },
  {
   "cell_type": "code",
   "execution_count": 3,
   "outputs": [],
   "source": [
    "def WordCut(seqs, k=1):\n",
    "    # 分词，分为[['C', 'C', 'C', 'U'],[U', 'G', 'U'],['G', 'C', 'C', 'U', 'U', 'C']]\n",
    "    res = []\n",
    "    maxLength = 0\n",
    "    for seq in seqs:\n",
    "        cutSequence = []\n",
    "        for i in range(len(seq) - k + 1):\n",
    "            cutSequence.append(seq[i:i + k])\n",
    "        res.append(cutSequence)\n",
    "        if len(seq) > maxLength:\n",
    "            maxLength = len(seq)\n",
    "    return res, maxLength\n",
    "\n",
    "\n",
    "def Doc2Vector(sequences, k_mer=3, vector_size=50, epochs=30):\n",
    "    cutSequences, sequenceMaxLength = WordCut(sequences, k_mer)\n",
    "    model = Doc2Vec(cutSequences, vector_size=vector_size, epochs=epochs)\n",
    "\n",
    "    encodingsVec = []\n",
    "    sequencesLength = len(sequences)\n",
    "    one_percent = max(1, sequencesLength // 100)\n",
    "    progressIndex = 0\n",
    "    for cutSentence in cutSequences:\n",
    "        seqVec = [model.wv[word] for word in cutSentence]\n",
    "        len_seq_vec = len(seqVec)\n",
    "        seqVec.extend([np.zeros(vector_size)] * (sequenceMaxLength - len_seq_vec))\n",
    "        encodingsVec.append(seqVec)\n",
    "        progressIndex += 1\n",
    "        if progressIndex % one_percent == 0 or progressIndex == sequencesLength:\n",
    "            my_emit(signal.progressBar, 100 * progressIndex / sequencesLength)\n",
    "    encodings = np.array(encodingsVec, dtype=np.float32)\n",
    "    return encodings.reshape(len(encodings), -1)\n"
   ],
   "metadata": {
    "collapsed": false,
    "pycharm": {
     "name": "#%%\n"
    }
   }
  },
  {
   "cell_type": "code",
   "execution_count": null,
   "outputs": [],
   "source": [],
   "metadata": {
    "collapsed": false,
    "pycharm": {
     "name": "#%%\n"
    }
   }
  }
 ],
 "metadata": {
  "kernelspec": {
   "name": "python3",
   "language": "python",
   "display_name": "Python 3 (ipykernel)"
  },
  "language_info": {
   "codemirror_mode": {
    "name": "ipython",
    "version": 2
   },
   "file_extension": ".py",
   "mimetype": "text/x-python",
   "name": "python",
   "nbconvert_exporter": "python",
   "pygments_lexer": "ipython2",
   "version": "2.7.6"
  }
 },
 "nbformat": 4,
 "nbformat_minor": 0
}